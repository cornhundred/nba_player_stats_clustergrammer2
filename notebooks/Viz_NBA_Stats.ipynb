{
 "cells": [
  {
   "cell_type": "markdown",
   "metadata": {},
   "source": [
    "# Viz NBA Stats\n",
    "Data obtained from https://www.kaggle.com/drgilermo/nba-players-stats"
   ]
  },
  {
   "cell_type": "code",
   "execution_count": 1,
   "metadata": {},
   "outputs": [],
   "source": [
    "import pandas as pd\n",
    "import numpy as np"
   ]
  },
  {
   "cell_type": "code",
   "execution_count": 2,
   "metadata": {},
   "outputs": [
    {
     "name": "stdout",
     "output_type": "stream",
     "text": [
      ">> clustergrammer2 backend version 0.17.0\n"
     ]
    }
   ],
   "source": [
    "from clustergrammer2 import Network, CGM2"
   ]
  },
  {
   "cell_type": "code",
   "execution_count": 3,
   "metadata": {},
   "outputs": [],
   "source": [
    "net = Network(CGM2)"
   ]
  },
  {
   "cell_type": "code",
   "execution_count": 4,
   "metadata": {},
   "outputs": [],
   "source": [
    "df = {}"
   ]
  },
  {
   "cell_type": "code",
   "execution_count": 5,
   "metadata": {},
   "outputs": [
    {
     "data": {
      "text/plain": [
       "(24691, 52)"
      ]
     },
     "execution_count": 5,
     "metadata": {},
     "output_type": "execute_result"
    }
   ],
   "source": [
    "df['season-ini'] = pd.read_csv('../data/nba-players-stats/Seasons_Stats.csv', index_col=0)\n",
    "df['season-ini'].shape"
   ]
  },
  {
   "cell_type": "code",
   "execution_count": 6,
   "metadata": {},
   "outputs": [
    {
     "name": "stdout",
     "output_type": "stream",
     "text": [
      "26\n",
      "(24691, 26)\n"
     ]
    }
   ],
   "source": [
    "cols = df['season-ini'].columns.tolist()\n",
    "keep_cols = cols[-26:]\n",
    "print(len(keep_cols))\n",
    "mat = df['season-ini'][keep_cols].values\n",
    "print(mat.shape)"
   ]
  },
  {
   "cell_type": "code",
   "execution_count": 7,
   "metadata": {},
   "outputs": [
    {
     "name": "stdout",
     "output_type": "stream",
     "text": [
      "24691\n",
      "24625\n"
     ]
    }
   ],
   "source": [
    "ser_year = df['season-ini']['Year']\n",
    "ser_player = df['season-ini']['Player']\n",
    "ser_age = df['season-ini']['Age']\n",
    "ser_team = df['season-ini']['Tm']\n",
    "ser_pos = df['season-ini']['Pos']\n",
    "rows = []\n",
    "for index in range(ser_player.shape[0]):\n",
    "    inst_year = ser_year.iloc[index]\n",
    "    inst_player = ser_player.iloc[index]\n",
    "    inst_age = ser_age.iloc[index]\n",
    "    inst_team = ser_team.iloc[index]\n",
    "    inst_pos = ser_pos.iloc[index]\n",
    "    inst_name = str(inst_player) + '_' + str(inst_year) + '_' + str(inst_team) + '_' + str(inst_age)\n",
    "    inst_row = (inst_name, 'Position: ' + str(inst_pos), 'Team: ' + str(inst_team), 'Player: ' + str(inst_player))\n",
    "    rows.append(inst_row)\n",
    "print(len(rows))\n",
    "print(len(list(set(rows))))"
   ]
  },
  {
   "cell_type": "code",
   "execution_count": 8,
   "metadata": {},
   "outputs": [
    {
     "data": {
      "text/plain": [
       "(26, 24691)"
      ]
     },
     "execution_count": 8,
     "metadata": {},
     "output_type": "execute_result"
    }
   ],
   "source": [
    "df['season'] = pd.DataFrame(data=mat, index=rows, columns=keep_cols).transpose()\n",
    "df['season'].shape"
   ]
  },
  {
   "cell_type": "code",
   "execution_count": 9,
   "metadata": {},
   "outputs": [
    {
     "data": {
      "text/plain": [
       "(26, 7603)"
      ]
     },
     "execution_count": 9,
     "metadata": {},
     "output_type": "execute_result"
    }
   ],
   "source": [
    "keep_cols = [x for x in df['season'].columns.tolist() if float(x[0].split('_')[1]) >= 2005]\n",
    "df['modern-era'] = df['season'][keep_cols]\n",
    "df['modern-era'].shape"
   ]
  },
  {
   "cell_type": "code",
   "execution_count": 10,
   "metadata": {},
   "outputs": [
    {
     "data": {
      "application/vnd.jupyter.widget-view+json": {
       "model_id": "848a5328b2174f75850f591a5893c78d",
       "version_major": 2,
       "version_minor": 0
      },
      "text/plain": [
       "CGM2(network='{\"row_nodes\": [{\"name\": \"OBPM\", \"ini\": 26, \"clust\": 17, \"rank\": 24, \"rankvar\": 0}, {\"name\": \"DBP…"
      ]
     },
     "metadata": {},
     "output_type": "display_data"
    }
   ],
   "source": [
    "net.load_df(df['modern-era'])\n",
    "net.swap_nan_for_zero()\n",
    "net.normalize(axis='row', norm_type='zscore')\n",
    "df['modern-era-z'] = net.export_df()\n",
    "net.clip(-5,5)\n",
    "net.load_df(net.export_df())\n",
    "net.widget()"
   ]
  },
  {
   "cell_type": "code",
   "execution_count": null,
   "metadata": {},
   "outputs": [],
   "source": []
  },
  {
   "cell_type": "code",
   "execution_count": null,
   "metadata": {},
   "outputs": [],
   "source": []
  }
 ],
 "metadata": {
  "kernelspec": {
   "display_name": "Python 3",
   "language": "python",
   "name": "python3"
  },
  "language_info": {
   "codemirror_mode": {
    "name": "ipython",
    "version": 3
   },
   "file_extension": ".py",
   "mimetype": "text/x-python",
   "name": "python",
   "nbconvert_exporter": "python",
   "pygments_lexer": "ipython3",
   "version": "3.6.5"
  }
 },
 "nbformat": 4,
 "nbformat_minor": 2
}
